{
 "cells": [
  {
   "cell_type": "code",
   "execution_count": 1,
   "id": "cc7c1dfa",
   "metadata": {},
   "outputs": [],
   "source": [
    "import requests\n",
    "import pandas as pd\n",
    "import os\n",
    "import requests\n"
   ]
  },
  {
   "cell_type": "code",
   "execution_count": 2,
   "id": "c5130ea9",
   "metadata": {},
   "outputs": [],
   "source": [
    "\n",
    "def get_ratings(itemid, shopid, max_ratings = 60,):\n",
    "    ratings = []\n",
    "    for offset in range(6, max_ratings, 6):\n",
    "        try:\n",
    "            url = f\"https://shopee.com.br/api/v2/item/get_ratings?filter=0&flag=1&itemid={itemid}&limit=6&offset={offset}&shopid={shopid}&type=0\"\n",
    "            #print(url)\n",
    "            page = requests.get(url)\n",
    "            json = page.json()\n",
    "            for order in json['data']['ratings']:\n",
    "                \n",
    "                ratings.append([order['comment'], \n",
    "                                order['rating_star'], \n",
    "                                order['like_count'],\n",
    "                                order['orderid'],\n",
    "                                  itemid])\n",
    "        except:\n",
    "            continue\n",
    "        \n",
    "    #print(ratings)   \n",
    "    ratings_df = pd.DataFrame(ratings, columns = ['ratings', 'comment', 'rating_star', 'like_count', 'orderid'])\n",
    "    ratings_df.to_csv(f'avaliacoes/{itemid}.csv')\n",
    "   \n"
   ]
  },
  {
   "cell_type": "code",
   "execution_count": 3,
   "id": "08f8f516",
   "metadata": {},
   "outputs": [],
   "source": [
    "item_key = \"smart watch\"\n",
    "search_item = item_key.replace(\" \", \"%20\")\n",
    "limit = 10\n",
    "url = f\"https://shopee.com.br/api/v4/search/search_items?by=relevancy&keyword={search_item}&limit={limit}&newest=0&order=desc&page_type=search&scenario=PAGE_GLOBAL_SEARCH&version=2\"\n",
    "page = requests.get(url)\n",
    "items = page.json()\n",
    "items_list = []\n",
    "\n",
    "for item in items['items']:\n",
    "    item = item['item_basic']\n",
    "    items_list.append([item['itemid'],\n",
    "                      item['shopid'],\n",
    "                      item['name'],\n",
    "                      item['shop_location'],\n",
    "                      item['price']/100000,\n",
    "                      item['item_rating']['rating_star']]\n",
    "                     )\n",
    "    get_ratings(item['itemid'], item['shopid'], max_ratings = 60)\n",
    "    \n",
    "pd.DataFrame(items_list, columns = ['itemid', 'shopid', 'name', 'shop_location', 'price', 'rating'])\\\n",
    ".to_csv(\"{}.csv\".format(item_key.replace(\" \", '_')))\n",
    "\n",
    "\n",
    "    \n"
   ]
  },
  {
   "cell_type": "code",
   "execution_count": null,
   "id": "55252aa7",
   "metadata": {},
   "outputs": [],
   "source": []
  }
 ],
 "metadata": {
  "kernelspec": {
   "display_name": "Python 3 (ipykernel)",
   "language": "python",
   "name": "python3"
  },
  "language_info": {
   "codemirror_mode": {
    "name": "ipython",
    "version": 3
   },
   "file_extension": ".py",
   "mimetype": "text/x-python",
   "name": "python",
   "nbconvert_exporter": "python",
   "pygments_lexer": "ipython3",
   "version": "3.9.7"
  }
 },
 "nbformat": 4,
 "nbformat_minor": 5
}
